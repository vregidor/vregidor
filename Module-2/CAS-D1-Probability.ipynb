{
  "nbformat": 4,
  "nbformat_minor": 0,
  "metadata": {
    "kernelspec": {
      "display_name": "Python 3",
      "language": "python",
      "name": "python3"
    },
    "language_info": {
      "codemirror_mode": {
        "name": "ipython",
        "version": 3
      },
      "file_extension": ".py",
      "mimetype": "text/x-python",
      "name": "python",
      "nbconvert_exporter": "python",
      "pygments_lexer": "ipython3",
      "version": "3.7.6"
    },
    "colab": {
      "provenance": []
    }
  },
  "cells": [
    {
      "cell_type": "markdown",
      "source": [
        "<a href=\"https://colab.research.google.com/github/KGzB/CAS-Applied-Data-Science/blob/master/Module-2/CAS-D1-Probability.ipynb\" target=\"_parent\"><img src=\"https://colab.research.google.com/assets/colab-badge.svg\" alt=\"Open In Colab\"/></a>"
      ],
      "metadata": {
        "id": "Zc3eDfkC0qN7"
      }
    },
    {
      "cell_type": "markdown",
      "metadata": {
        "id": "VPrrXnuiCrxR"
      },
      "source": [
        "Notebook 2, Module 2, Statistical Inference for Data Science, CAS Applied Data Science, 2024-08-27, A. Mühlemann, University of Bern.\n",
        "\n",
        "*This notebook is based on the notebook by S. Haug and G. Conti from 2020*"
      ]
    },
    {
      "cell_type": "markdown",
      "metadata": {
        "id": "AXe5g2m0CrxU"
      },
      "source": [
        "\n",
        "# 2. Probability and descriptive statistics\n"
      ]
    },
    {
      "cell_type": "markdown",
      "metadata": {
        "id": "EC-udnfoCrxV"
      },
      "source": [
        "**Average expected study time :** 3x45 min (depending on your background). Your are supposed to play with the examples: change them, maybe test on another dataset. From just executing them, you will not learn much.\n",
        "\n",
        "**Learning outcomes :**\n",
        "- Random variables and probability density functions\n",
        "  - Know the normal probability density function (pdf)\n",
        "  - Know some other useful probability distributions\n",
        "- Describing data with descriptive statistics\n",
        "  - Obtain moments of a distribution. (mean, variance, standard deviation, kurtosis, skewness, quantile, median, mode)\n",
        "  - Generate data randomly according to a given distribution"
      ]
    },
    {
      "cell_type": "code",
      "metadata": {
        "id": "6vWrFVAvCrxW"
      },
      "source": [
        "# Load the needed python libraries by executing this python code (press ctrl enter)\n",
        "import pandas as pd\n",
        "import numpy as np\n",
        "import scipy.stats\n",
        "import matplotlib.pyplot as plt"
      ],
      "execution_count": 1,
      "outputs": []
    },
    {
      "cell_type": "markdown",
      "metadata": {
        "id": "Xw0DzFIvCrxX"
      },
      "source": [
        "## 2.1 Random variables and probability density functions (pdf)\n",
        "\n"
      ]
    },
    {
      "cell_type": "markdown",
      "metadata": {
        "id": "ykLar845CrxX"
      },
      "source": [
        "As already mentioned this morning: probability theory is fundamental to statistics because it provides the mathematical framework for dealing with uncertainty and randomness, which are inherent in real-world data and phenomena.\n",
        "\n",
        "In inteferential statistics, we understand an experiment as a random process - similar to a coin toss - in which the outcome is unknown before it is conducted. With the help of probability theory, the possible outcomes can be described.\n",
        "\n",
        "Illustrated on our iris data set: we did not know which lenghts and widths we would obsereve, before we actually collected aour data. Thus, the data set at hand is the product of a random process. More precisely, for each flower the observed values are the outcome of a random process.\n",
        "\n",
        "Thus, the observables are often called **random variables** and denoted by $X$. All in all, we can view our dataset as a number of manifestations of random variables $X_1$, $X_2$,...., $X_n$.\n",
        "\n",
        "A random variable $X$ can be discrete or continuous. And they can be uniquely described by their distribution. One option to discribe their distribution, is to work with probablility mass functions (in the case of discrete $X$) and probability density functions (in the case of continuous $X$).\n",
        "\n",
        "If $X$ is discrete, then we use $f(x;\\theta)=P_\\theta(X=x)$ to denote the probability that random variable $X$ takes value $x$ (in python the term probability mass function, pmf, is used for $f(x;\\theta)$). The parameter $\\theta$ stands for the parameters that influence the shape of the probability mass function.\n",
        "\n",
        "If $X$ is a continuous random variable, then $X$ can be uniquely described by its probability density funtion (pdf) $f(x;\\theta)$ that may also depend on one or more parameters $\\theta$. In contrast to the case where $X$ is discrete, the values of $f(x;\\theta)$ cannot be directly interpreted as the probabilities of outcome $x$. Instead, we look at an interval $[a,b], a\\le b, $ and interpret the area that the density assumes in this interval as the probability that X takes a value between $a$ and $b$ i.e.\n",
        "\n",
        "$$\n",
        "\\int_a^b f(y,\\theta) \\, dy = P(X \\in [a,b]).\n",
        "$$\n",
        "\n",
        "\n",
        "The pdf is always normalized to **unity** (the number 1), i.e.\n",
        "$$\n",
        "\\int_{-\\infty}^\\infty f(y,\\theta) \\, dy = 1.\n",
        "$$\n",
        "This makes sense, as this means nothing else as that the probability that any of the possible outcomes materializes equals 1.\n",
        "\n",
        "Sometimes $\\theta$ is unknown. Then, we wish to estimate its value from a given set of measurements of $X_1, ..., X_n$. This is a central topic of statistics (see next notebook on parameter estimation and regression).\n",
        "\n",
        "The following sections introduce some of the most used distributions - first and foremost the normal distribution."
      ]
    },
    {
      "cell_type": "markdown",
      "metadata": {
        "id": "HLNrZDw8yCm1"
      },
      "source": [
        "### 2.1.1 The normal distribution"
      ]
    },
    {
      "cell_type": "markdown",
      "metadata": {
        "id": "1mwatAILCrxY"
      },
      "source": [
        "The normal (or Gaussian) distribution is probably the most used one. It\n",
        "derives its importance in large part from the *central limit theorem*. Roughly speaking the central limit theorem says \"In most situations, when independent random variables are added, their properly normalized sum tends toward a normal distribution (informally a \"bell curve\") even if the original variables themselves are not normally distributed.\" https://en.wikipedia.org/wiki/Central_limit_theorem\n",
        "\n",
        "**Example:** If one flips a coin many times the probability of getting a given number of heads in a series of flips will approach a normal curve, with mean equal to half the total number of flips in each series. (In the limit of an infinite number of flips, it will equal a normal curve.)\n",
        "\n",
        "This means that in many cases it is sufficient to know the characteristics of the normal pdf. Also often unspecified statements like the *error*, or better, the *uncertainty* refer to their meaning on the normal pdf.\n",
        "\n",
        "The density of the normal distribution (in one dimension) is given by\n",
        "\n",
        "$$ f(x;\\mu,\\sigma) = \\frac{1}{\\sigma \\sqrt{2\\pi}} \\exp(\\frac{-(x-\\mu)^2}{2\\sigma^2}) $$\n",
        "\n",
        "It reads, given the distribution parameters mean $\\mu$ and variance $\\sigma$, x follows this function.\n",
        "\n",
        "### Exercise 2.1 (5 min)\n",
        "\n",
        "Plot the normal distribution with mean 0 and variance 5 for 400 x values between -20 to 20. Repeat this for two other means and variances. How big is the surface under the curves ?\n",
        "\n",
        "(See also scipy.stat.norm https://docs.scipy.org/doc/scipy-0.16.1/reference/generated/scipy.stats.norm.html)  \n"
      ]
    },
    {
      "cell_type": "code",
      "metadata": {
        "colab": {
          "base_uri": "https://localhost:8080/",
          "height": 466
        },
        "id": "yOp5o6mMCrxZ",
        "outputId": "dbe28490-2401-44c8-bf01-71edffd054c3"
      },
      "source": [
        "# Part of the solution:\n",
        "from scipy.stats import norm\n",
        "x = np.linspace(-20,20,400) # 400 bins from -20 to 20\n",
        "plt.plot(x, scipy.stats.norm.pdf(x,0,5**0.5))\n",
        "plt.plot(x, scipy.stats.norm.pdf(x,0,2**0.5))\n",
        "plt.legend(['sigma=5', 'sigma=2'])\n",
        "\n",
        "surface = norm.cdf(20, loc=0, scale=5**0.5) - norm.cdf(-20, loc=0, scale=5**0.5)\n",
        "surfac = norm.cdf(20, loc=0, scale=2**0.5) - norm.cdf(-20, loc=0, scale=2**0.5)\n",
        "print(surface)\n",
        "print(surfac)\n"
      ],
      "execution_count": 4,
      "outputs": [
        {
          "output_type": "stream",
          "name": "stdout",
          "text": [
            "1.0\n",
            "1.0\n"
          ]
        },
        {
          "output_type": "display_data",
          "data": {
            "text/plain": [
              "<Figure size 640x480 with 1 Axes>"
            ],
            "image/png": "[encoded data removed]"
          },
          "metadata": {}
        }
      ]
    },
    {
      "cell_type": "markdown",
      "metadata": {
        "id": "kFwri6PS0LS7"
      },
      "source": [
        "### 2.1.2 Poisson distribution"
      ]
    },
    {
      "cell_type": "markdown",
      "metadata": {
        "id": "KENC1KioCrxh"
      },
      "source": [
        "**Some words on the Poisson distribution**\n",
        "\n",
        "The Poisson distribution is popular for modelling the number of times an event occurs in an interval of time or space. For example:\n",
        "\n",
        "- The number of meteorites greater than 1 meter diameter that strike earth in a year\n",
        "- The number of patients arriving in an emergency room between 10 and 11 pm\n",
        "\n",
        "The probability mass function is $$f(k;\\lambda) = \\frac{\\lambda^k exp(-\\lambda)}{k!}$$\n",
        "For large $k$ the normal distribution is an excellent approximation of the poisson pdf. For $k$ below 20 one should be careful using statements based on the normal distribution, e.g. the distribution is not symmetric anymore."
      ]
    },
    {
      "cell_type": "code",
      "metadata": {
        "id": "d0Zhw0nGCrxh",
        "colab": {
          "base_uri": "https://localhost:8080/",
          "height": 485
        },
        "outputId": "019f42ba-b32d-43a0-9891-8c4e048bf831"
      },
      "source": [
        "x = np.arange(-1, 40)\n",
        "plt.step(x,scipy.stats.poisson.pmf(x,2))\n",
        "plt.step(x,scipy.stats.poisson.pmf(x,15))\n",
        "plt.legend(['lambda=2', 'lambda=15'])\n",
        "x"
      ],
      "execution_count": 7,
      "outputs": [
        {
          "output_type": "execute_result",
          "data": {
            "text/plain": [
              "array([-1,  0,  1,  2,  3,  4,  5,  6,  7,  8,  9, 10, 11, 12, 13, 14, 15,\n",
              "       16, 17, 18, 19, 20, 21, 22, 23, 24, 25, 26, 27, 28, 29, 30, 31, 32,\n",
              "       33, 34, 35, 36, 37, 38, 39])"
            ]
          },
          "metadata": {},
          "execution_count": 7
        },
        {
          "output_type": "display_data",
          "data": {
            "text/plain": [
              "<Figure size 640x480 with 1 Axes>"
            ],
            "image/png": "[encoded data removed]"
          },
          "metadata": {}
        }
      ]
    },
    {
      "cell_type": "markdown",
      "metadata": {
        "id": "Dn2EbwxYCrxh"
      },
      "source": [
        "We see that a possion pdf with mean 15 looks very much like the normal distribution."
      ]
    },
    {
      "cell_type": "markdown",
      "metadata": {
        "id": "aH24nsOg0zRr"
      },
      "source": [
        "#### Exercise (after reading the section on descriptive statistics)\n",
        "Get some desciptive statistics from the poisson pmf with mean 1.7. See also https://docs.scipy.org/doc/scipy/reference/generated/scipy.stats.poisson.html"
      ]
    },
    {
      "cell_type": "code",
      "metadata": {
        "id": "jhgpz6OgCrxg",
        "colab": {
          "base_uri": "https://localhost:8080/"
        },
        "outputId": "9e4b6db2-fca0-4942-feca-98b0b0471cae"
      },
      "source": [
        "mean, variance, skewness, kurtosis = scipy.stats.poisson.stats(1.7,moments='mvsk')\n",
        "#my_norm = norm(0,2)\n",
        "print('Mean = %1.2f Var = %1.2f Std = %1.2f Skewness = %1.2f kurtosis = %1.2f' % (mean,variance,variance**0.5,skewness,kurtosis))\n",
        "#my_norm.moments()"
      ],
      "execution_count": null,
      "outputs": [
        {
          "output_type": "stream",
          "name": "stdout",
          "text": [
            "Mean = 1.70 Var = 1.70 Std = 1.30 Skewness = 0.77 kurtosis = 0.59\n"
          ]
        }
      ]
    },
    {
      "cell_type": "markdown",
      "metadata": {
        "id": "Cg54iLV-Crxg"
      },
      "source": [
        "Plot mode and median of the above poisson distribution."
      ]
    },
    {
      "cell_type": "code",
      "metadata": {
        "id": "Wk9FOtnrCrxg",
        "colab": {
          "base_uri": "https://localhost:8080/",
          "height": 448
        },
        "outputId": "cbf49c70-09b0-4a2c-ce93-571c22bef0cb"
      },
      "source": [
        "dist = scipy.stats.poisson(1.7)\n",
        "x = np.arange(-1, 10)\n",
        "sigma=variance**0.5\n",
        "plt.step(x,dist.pmf(x))\n",
        "dist.median()\n",
        "plt.axvline(x=mean, linewidth=2, color = 'k',label=\"Mean\")\n",
        "plt.axvline(x=mean+sigma, linewidth=2, color = 'r', label=\"Sigma (standard deviation)\")\n",
        "plt.axvline(x=dist.median(), linewidth=2, color = 'b',label=\"Median\")\n",
        "plt.legend(loc='upper right')"
      ],
      "execution_count": null,
      "outputs": [
        {
          "output_type": "execute_result",
          "data": {
            "text/plain": [
              "<matplotlib.legend.Legend at 0x7f035debb710>"
            ]
          },
          "metadata": {},
          "execution_count": 29
        },
        {
          "output_type": "display_data",
          "data": {
            "text/plain": [
              "<Figure size 640x480 with 1 Axes>"
            ],
            "image/png": "[encoded data removed]"
          },
          "metadata": {}
        }
      ]
    },
    {
      "cell_type": "markdown",
      "metadata": {
        "id": "WTZQ-K0eCrxh"
      },
      "source": [
        "### 2.1.3 Binomial distribution"
      ]
    },
    {
      "cell_type": "markdown",
      "metadata": {
        "id": "1AmdW0mZCrxh"
      },
      "source": [
        "The binomial distribution is frequently used to model the number of successes $k$ in a sequence of $n$ independent experiments.\n",
        "\n",
        "$$f(k;n,p) = \\binom{n}{k} \\cdot p^kq^{n-k}$$\n",
        "\n",
        "The binomial distribution converges towards the Poisson distribution as the number of trials $n$ goes to infinity while the product $np_n$ remains fixed. In this case, the Poisson distribution with parameter $\\lambda = np$ can be used as an approximation of the binomial distribution with parameters $n$ and $p$.\n",
        "\n",
        "For $n>20$ and $p$ not too close to $1$ or $0$, the normal distribution is also here a good approximation."
      ]
    },
    {
      "cell_type": "code",
      "metadata": {
        "id": "kwu7F1Z4Crxi",
        "colab": {
          "base_uri": "https://localhost:8080/",
          "height": 448
        },
        "outputId": "28cd0db8-f992-4392-dde0-92e78f8a3c2c"
      },
      "source": [
        "x = np.arange(-1, 40)\n",
        "plt.step(x,scipy.stats.binom.pmf(x,40,0.05))\n",
        "plt.step(x,scipy.stats.binom.pmf(x,40,0.2))\n",
        "plt.step(x,scipy.stats.binom.pmf(x,40,0.5))\n",
        "plt.step(x,scipy.stats.binom.pmf(x,40,0.8))\n",
        "plt.legend(['n=40, p=0.05', 'n=40, p=0.2', 'n=40, p=0.5', 'n=40, p=0.8'])"
      ],
      "execution_count": null,
      "outputs": [
        {
          "output_type": "execute_result",
          "data": {
            "text/plain": [
              "<matplotlib.legend.Legend at 0x7f035a2bbd90>"
            ]
          },
          "metadata": {},
          "execution_count": 30
        },
        {
          "output_type": "display_data",
          "data": {
            "text/plain": [
              "<Figure size 640x480 with 1 Axes>"
            ],
            "image/png": "[encoded data removed]"
          },
          "metadata": {}
        }
      ]
    },
    {
      "cell_type": "markdown",
      "metadata": {
        "id": "sn-zV5dL11kA"
      },
      "source": [
        "### 2.1.4 Student-distribution or t-distribution\n"
      ]
    },
    {
      "cell_type": "markdown",
      "metadata": {
        "id": "PkE4TeRCCN1C"
      },
      "source": [
        "The $t$-distribution is symmetric and bell-shaped, like the normal distribution. However, the $t$-distribution has heavier tails than the normal distribution. This means that it is more prone to producing values that fall far from its mean. This makes it useful for understanding the statistical behavior of certain types of ratios of random quantities, in which variation in the denominator is amplified and may produce outlying values when the denominator of the ratio falls close to zero.\n",
        "\n",
        "\n",
        "We will indirectly encounter the $t$-distribution on day four, when we look at hypothesis testing."
      ]
    },
    {
      "cell_type": "code",
      "metadata": {
        "id": "dEwcdhYg2nqW",
        "colab": {
          "base_uri": "https://localhost:8080/"
        },
        "outputId": "76beee40-7833-4eb2-f838-da8bfdf2e96c"
      },
      "source": [
        "from scipy.stats import t\n",
        "df=8\n",
        "mean, var, skew, kurt = t.stats(df, moments='mvsk')\n",
        "print('Mean = %1.2f Var = %1.2f Std = %1.2f Skewness = %1.2f kurtosis = %1.2f' % (mean,var,var**0.5,skew,kurt))"
      ],
      "execution_count": null,
      "outputs": [
        {
          "output_type": "stream",
          "name": "stdout",
          "text": [
            "Mean = 0.00 Var = 1.33 Std = 1.15 Skewness = 0.00 kurtosis = 1.50\n"
          ]
        }
      ]
    },
    {
      "cell_type": "markdown",
      "metadata": {
        "id": "3fBVK7bL4KyT"
      },
      "source": [
        "Plot the pdf for 2 and 10 degrees of freedom"
      ]
    },
    {
      "cell_type": "code",
      "metadata": {
        "colab": {
          "base_uri": "https://localhost:8080/",
          "height": 448
        },
        "id": "8AlgX6A34N3K",
        "outputId": "4c6e3e6b-95ea-4ee7-a151-26a014b5e4aa"
      },
      "source": [
        "fig, ax = plt.subplots(1, 1)\n",
        "df=2\n",
        "x = np.linspace(t.ppf(0.01, df),\n",
        "                t.ppf(0.99, df), 100)\n",
        "ax.plot(x, t.pdf(x, df),\n",
        "        'r-', lw=2, alpha=0.6, label='t pdf')\n",
        "\n",
        "df=10\n",
        "x = np.linspace(t.ppf(0.01, df),\n",
        "                t.ppf(0.99, df), 100)\n",
        "ax.plot(x, t.pdf(x, df),\n",
        "        'b-', lw=2, alpha=0.6, label='t pdf')\n",
        "ax.legend(['df=2','df=10'])"
      ],
      "execution_count": null,
      "outputs": [
        {
          "output_type": "execute_result",
          "data": {
            "text/plain": [
              "<matplotlib.legend.Legend at 0x7f035a34aa50>"
            ]
          },
          "metadata": {},
          "execution_count": 32
        },
        {
          "output_type": "display_data",
          "data": {
            "text/plain": [
              "<Figure size 640x480 with 1 Axes>"
            ],
            "image/png": "[encoded data removed]"
          },
          "metadata": {}
        }
      ]
    },
    {
      "cell_type": "markdown",
      "metadata": {
        "id": "VdtG6mWF5Pen"
      },
      "source": [
        "### 2.1.5 Gamma distribution\n",
        "\n"
      ]
    },
    {
      "cell_type": "markdown",
      "metadata": {
        "id": "9K6_rgOWCS3k"
      },
      "source": [
        "In probability theory and statistics, the gamma distribution is a two-parameter family of continuous probability distributions.\n",
        "\n",
        "The depending on the parameters the Gamma distribution can be skewed to that it can be helpful to model the size of insurance claims and rainfalls.\n",
        "\n",
        "Lets look at the gamma pdf for different parameters"
      ]
    },
    {
      "cell_type": "code",
      "metadata": {
        "colab": {
          "base_uri": "https://localhost:8080/",
          "height": 448
        },
        "id": "2M7wJtms6wmH",
        "outputId": "66254166-36c2-46f6-f4ae-1e8964fb6c84"
      },
      "source": [
        "from scipy.stats import gamma\n",
        "fig, ax = plt.subplots(1, 1)\n",
        "a = 2\n",
        "x = np.linspace(gamma.ppf(0.01, a),\n",
        "                gamma.ppf(0.99, a), 100)\n",
        "\n",
        "ax.plot(x, gamma.pdf(x, a),\n",
        "       'r-', lw=2, alpha=0.6, label='gamma pdf')\n",
        "\n",
        "a = 4\n",
        "x = np.linspace(gamma.ppf(0.01, a),\n",
        "                gamma.ppf(0.99, a), 100)\n",
        "\n",
        "ax.plot(x, gamma.pdf(x, a),\n",
        "       'b-', lw=2, alpha=0.6, label='gamma pdf')\n",
        "a = 8\n",
        "x = np.linspace(gamma.ppf(0.01, a),\n",
        "                gamma.ppf(0.99, a), 100)\n",
        "\n",
        "ax.plot(x, gamma.pdf(x, a),\n",
        "       'g-', lw=2, alpha=0.6, label='gamma pdf')"
      ],
      "execution_count": null,
      "outputs": [
        {
          "output_type": "execute_result",
          "data": {
            "text/plain": [
              "[<matplotlib.lines.Line2D at 0x7f035a0078d0>]"
            ]
          },
          "metadata": {},
          "execution_count": 33
        },
        {
          "output_type": "display_data",
          "data": {
            "text/plain": [
              "<Figure size 640x480 with 1 Axes>"
            ],
            "image/png": "[encoded data removed]"
          },
          "metadata": {}
        }
      ]
    },
    {
      "cell_type": "markdown",
      "metadata": {
        "id": "wn1aQWsuAMAA"
      },
      "source": [
        "Of course there are many many more useful distribution. If you want to see more, check out this reference http://staff.fysik.su.se/~walck/suf9601.pdf"
      ]
    },
    {
      "cell_type": "markdown",
      "metadata": {
        "id": "fK-auKXeCrxc"
      },
      "source": [
        "## 2.2 Describing distributions\n"
      ]
    },
    {
      "cell_type": "markdown",
      "metadata": {
        "id": "2GaZl2ICx20_"
      },
      "source": [
        "### 2.3.1 Moments of the pdf"
      ]
    },
    {
      "cell_type": "markdown",
      "metadata": {
        "id": "iR9Hd4wCCrxc"
      },
      "source": [
        "\n",
        "An important operator often used in probability theory and statistics is the expectation of a random variable $X$ with pdf $f(x;\\theta)$ given by\n",
        "$$\\mu=\\mathbb{E}(X) = \\int_{-\\infty}^{\\infty} xf(x; \\theta)dx.   $$\n",
        "The expected value is basically a generalized weighted average. In the case where $X$ is discrete the expectation is given by\n",
        "In the discrete case this integral becomes the sum known as the arithemtic mean:\n",
        "$$ \\mu = \\mathbb{E}(X)=  \\sum_{i=1}^n \\mathbb{P}(X=x_i) x_i.$$\n",
        "If $X$ is uniform this reduces to\n",
        "$$ \\mu=\\mathbb{E}(X) = \\frac{1}{n}\\sum_{i=1}^n  x_i.$$\n",
        "\n",
        "Since in statistics we assume that our draws are uniform this is the formula we use to estimate the expectation.\n",
        "<!--\n",
        "and the $n^{th}$ central moment of x (or moment about the mean, $α_1$) is\n",
        "\n",
        "$$ m_n \\equiv E[(x-\\alpha_1)^n] = \\int_{-\\infty}^{\\infty} (x-\\alpha_1)^nf(x)dx   $$\n",
        "-->\n",
        "\n",
        "Another operator closely related to the **mean $\\mu$ (or expectated value)** is the **variance $\\sigma^2$**, that is the expectation of the squared deviation of a random variable from its mean:\n",
        "\n",
        "$$\\sigma^2= Var(X) =\\int_{-\\infty}^{\\infty} (x-\\mu)^2 f(x)dx$$\n",
        "\n",
        "If $X$ is discrete then\n",
        "$$ \\sigma^2 = Var(X)=\\sum_{i=1}^n (x_i - \\mu)^2P(X=x_i).$$\n",
        "\n",
        "If $X$ is uniform this reduces to\n",
        "$$ \\sigma^2 = Var(X)= \\frac{1}{n} \\sum_{i=1}^n (x_i - \\mu)^2.$$\n",
        "\n",
        "The mean is the location of the “center of mass” of the pdf, and the variance is a measure of the square of its width. It is often convenient to use the **standard deviation (SD)** of $X$, $\\sigma$, defined as the square root of the variance.\n",
        "\n",
        "The mean and variance are especially important when talking about normal distribution as they uniquely characterize the graph of the normal distribution:  the mean is center of the graph and the standard deviation  determines the amount of dispersion away from the mean.\n",
        "\n",
        "The idea behind the mean can be generalized, so that we obtain a the notion of moments\n",
        "$$\\mathbb{E}(x^n) = \\int_{-\\infty}^{\\infty} x^nf(x)dx.   $$\n",
        "\n",
        "The second moment $\\mathbb{E}(X^2)$ occurs in the variance, the third $\\mathbb{E}(X^3)$ is related to the skewness and fourth moment $\\mathbb{E}(X^4)$ to the kurtosis.  The skewness is a number indicating the deviation from a symmetric form. Kurtosis is a number indicating if the tails of the distribution is larger or smaller then the tails of the normal distribution.\n"
      ]
    },
    {
      "cell_type": "markdown",
      "metadata": {
        "id": "qCzAPTnbCrxd"
      },
      "source": [
        "### 2.3.2 Quantiles and median"
      ]
    },
    {
      "cell_type": "markdown",
      "metadata": {
        "id": "qJO3-Bk6Crxd"
      },
      "source": [
        "The **quantile $q_{\\alpha}$** is the value $x$ of the random variable $X$ at which $\\alpha\\%$ of the area is smaller than $x$. An important special case is the **median, $q_{med} \\equiv q_{0.5}$**. At the median half the area lies above and half lies below.\n",
        "For the normal pdf the median equals the mean. The most probable value of a distribution is called **mode**.\n",
        "\n",
        "Special quantiles are the quartiles and percentiles. The first quartile is the $q_{0.25}$, the second the $q_{0.5}$ etc. Percentiles are for example $q_{0.75}$ etc.\n",
        "\n",
        "<!--\n",
        "Any odd moment about the mean is a measure of the **skewness** of the p.d.f. The simplest of these is the dimensionless coefficient of skewness $\\gamma_1 = m_33/\\sigma^3$.\n",
        "\n",
        "The fourth central moment $m_4$ provides a convenient measure of the tails of a distribution. For the Gaussian distribution, one has $m_4 = 3\\sigma^4$. The **kurtosis** is defined as $\\gamma_2 = m_4/\\sigma^4 − 3$, i.e., it is zero for a Gaussian, positive for a leptokurtic distribution with longer tails, and negative for a platykurtic distribution with tails that die off more quickly than those of a Gaussian.\n",
        "\n",
        "The **quantile $x_{\\alpha}$** is the value of the random variable x at which the cumulative distribution is equal to $\\alpha$. That is, the quantile is the inverse of the cumulative distribution function, i.e., $x_{alpha} = F^{−1}(\\alpha)$. An important special case is the **median, $x_{med}$**, defined by $F(x_{med}) = 1/2$, i.e., half the probability lies above and half lies below $x_{med}$. (More rigorously, $x_{med}$ is a median if $P(x \\geq x_{med}) \\geq 1/2$ and $P(x \\leq x_{med}) \\geq 1/2$. If only one value exists, it is called ‘the median.’)\n",
        "\n",
        "Under a monotonic change of variable $x \\rightarrow y(x)$, the quantiles of a distribution (and hence also the median) obey $y_{\\alpha} = y(x_{\\alpha})$. In general the expectation value and **mode** (most probable value) of a distribution do not, however, transform in this way.\n",
        "\n",
        "Let us look at median and quantile$_68$ of the normal pdf:\n",
        "-->"
      ]
    },
    {
      "cell_type": "markdown",
      "metadata": {
        "id": "qCwS2yugCrxe"
      },
      "source": [
        "#### Exercise"
      ]
    },
    {
      "cell_type": "markdown",
      "metadata": {
        "id": "h2KRFefuCrxe"
      },
      "source": [
        "Get some desciptive statistics from a normal (continous) pdf with mean 0 and standard deviation 4."
      ]
    },
    {
      "cell_type": "code",
      "metadata": {
        "colab": {
          "base_uri": "https://localhost:8080/"
        },
        "id": "b8O9HCdPCrxe",
        "outputId": "d57488af-9e1c-43c5-efd6-af95592d95af"
      },
      "source": [
        "mean, variance, skewness, kurtosis = scipy.stats.norm.stats(0,4,moments='mvsk')\n",
        "print(mean, variance, skewness, kurtosis)"
      ],
      "execution_count": null,
      "outputs": [
        {
          "output_type": "stream",
          "name": "stdout",
          "text": [
            "0.0 16.0 0.0 0.0\n"
          ]
        }
      ]
    },
    {
      "cell_type": "markdown",
      "metadata": {
        "id": "P1zQ_0IPCrxf"
      },
      "source": [
        "Plot the pdf and some moments"
      ]
    },
    {
      "cell_type": "code",
      "metadata": {
        "id": "xM0X1SedCrxf",
        "colab": {
          "base_uri": "https://localhost:8080/",
          "height": 448
        },
        "outputId": "a7daa653-fde5-498b-91f8-000b962edf31"
      },
      "source": [
        "x = np.linspace(-20,20,400)\n",
        "sigma=variance**0.5\n",
        "plt.plot(x,scipy.stats.norm.pdf(x,mean,sigma))\n",
        "plt.axvline(x=mean, linewidth=2, color = 'k',label=\"Mean\") # Plot the mean as a vertical line\n",
        "plt.axvline(x=mean-sigma, linewidth=2, color = 'r', label=\"Sigma (standard deviation)\")\n",
        "plt.axvline(x=mean+sigma, linewidth=2, color = 'r')\n",
        "plt.legend(loc='upper right')"
      ],
      "execution_count": null,
      "outputs": [
        {
          "output_type": "execute_result",
          "data": {
            "text/plain": [
              "<matplotlib.legend.Legend at 0x7f035a1d1290>"
            ]
          },
          "metadata": {},
          "execution_count": 35
        },
        {
          "output_type": "display_data",
          "data": {
            "text/plain": [
              "<Figure size 640x480 with 1 Axes>"
            ],
            "image/png": "[encoded data removed]"
          },
          "metadata": {}
        }
      ]
    },
    {
      "cell_type": "markdown",
      "metadata": {
        "id": "fOlh90B0Crxj"
      },
      "source": [
        "Produce the descriptive statistics for the Iris Virginica data.\n",
        "Then plot the histograms and scatter plots.\n",
        "We have seen that Iris Virginica could possibly be normal distributied. Thus, median and mean should be close. Let us check this"
      ]
    },
    {
      "cell_type": "code",
      "metadata": {
        "id": "efAFpQ3pCrxj",
        "colab": {
          "base_uri": "https://localhost:8080/",
          "height": 206
        },
        "outputId": "2144510f-7b2f-4f9c-be6e-377d0c17d669"
      },
      "source": [
        "\n",
        "url = \"https://archive.ics.uci.edu/ml/machine-learning-databases/iris/iris.data\"\n",
        "dataframe = pd.read_csv(url,names=['slength','swidth','plength','pwidth','species'])\n",
        "dataframe.head()"
      ],
      "execution_count": null,
      "outputs": [
        {
          "output_type": "execute_result",
          "data": {
            "text/plain": [
              "   slength  swidth  plength  pwidth      species\n",
              "0      5.1     3.5      1.4     0.2  Iris-setosa\n",
              "1      4.9     3.0      1.4     0.2  Iris-setosa\n",
              "2      4.7     3.2      1.3     0.2  Iris-setosa\n",
              "3      4.6     3.1      1.5     0.2  Iris-setosa\n",
              "4      5.0     3.6      1.4     0.2  Iris-setosa"
            ],
            "text/html": [
              "\n",
              "  <div id=\"df-4a27415c-20a2-4b61-9da6-67d45fd4049e\" class=\"colab-df-container\">\n",
              "    <div>\n",
              "<style scoped>\n",
              "    .dataframe tbody tr th:only-of-type {\n",
              "        vertical-align: middle;\n",
              "    }\n",
              "\n",
              "    .dataframe tbody tr th {\n",
              "        vertical-align: top;\n",
              "    }\n",
              "\n",
              "    .dataframe thead th {\n",
              "        text-align: right;\n",
              "    }\n",
              "</style>\n",
              "<table border=\"1\" class=\"dataframe\">\n",
              "  <thead>\n",
              "    <tr style=\"text-align: right;\">\n",
              "      <th></th>\n",
              "      <th>slength</th>\n",
              "      <th>swidth</th>\n",
              "      <th>plength</th>\n",
              "      <th>pwidth</th>\n",
              "      <th>species</th>\n",
              "    </tr>\n",
              "  </thead>\n",
              "  <tbody>\n",
              "    <tr>\n",
              "      <th>0</th>\n",
              "      <td>5.1</td>\n",
              "      <td>3.5</td>\n",
              "      <td>1.4</td>\n",
              "      <td>0.2</td>\n",
              "      <td>Iris-setosa</td>\n",
              "    </tr>\n",
              "    <tr>\n",
              "      <th>1</th>\n",
              "      <td>4.9</td>\n",
              "      <td>3.0</td>\n",
              "      <td>1.4</td>\n",
              "      <td>0.2</td>\n",
              "      <td>Iris-setosa</td>\n",
              "    </tr>\n",
              "    <tr>\n",
              "      <th>2</th>\n",
              "      <td>4.7</td>\n",
              "      <td>3.2</td>\n",
              "      <td>1.3</td>\n",
              "      <td>0.2</td>\n",
              "      <td>Iris-setosa</td>\n",
              "    </tr>\n",
              "    <tr>\n",
              "      <th>3</th>\n",
              "      <td>4.6</td>\n",
              "      <td>3.1</td>\n",
              "      <td>1.5</td>\n",
              "      <td>0.2</td>\n",
              "      <td>Iris-setosa</td>\n",
              "    </tr>\n",
              "    <tr>\n",
              "      <th>4</th>\n",
              "      <td>5.0</td>\n",
              "      <td>3.6</td>\n",
              "      <td>1.4</td>\n",
              "      <td>0.2</td>\n",
              "      <td>Iris-setosa</td>\n",
              "    </tr>\n",
              "  </tbody>\n",
              "</table>\n",
              "</div>\n",
              "    <div class=\"colab-df-buttons\">\n",
              "\n",
              "  <div class=\"colab-df-container\">\n",
              "    <button class=\"colab-df-convert\" onclick=\"convertToInteractive('df-4a27415c-20a2-4b61-9da6-67d45fd4049e')\"\n",
              "            title=\"Convert this dataframe to an interactive table.\"\n",
              "            style=\"display:none;\">\n",
              "\n",
              "  <svg xmlns=\"http://www.w3.org/2000/svg\" height=\"24px\" viewBox=\"0 -960 960 960\">\n",
              "    <path d=\"M120-120v-720h720v720H120Zm60-500h600v-160H180v160Zm220 220h160v-160H400v160Zm0 220h160v-160H400v160ZM180-400h160v-160H180v160Zm440 0h160v-160H620v160ZM180-180h160v-160H180v160Zm440 0h160v-160H620v160Z\"/>\n",
              "  </svg>\n",
              "    </button>\n",
              "\n",
              "  <style>\n",
              "    .colab-df-container {\n",
              "      display:flex;\n",
              "      gap: 12px;\n",
              "    }\n",
              "\n",
              "    .colab-df-convert {\n",
              "      background-color: #E8F0FE;\n",
              "      border: none;\n",
              "      border-radius: 50%;\n",
              "      cursor: pointer;\n",
              "      display: none;\n",
              "      fill: #1967D2;\n",
              "      height: 32px;\n",
              "      padding: 0 0 0 0;\n",
              "      width: 32px;\n",
              "    }\n",
              "\n",
              "    .colab-df-convert:hover {\n",
              "      background-color: #E2EBFA;\n",
              "      box-shadow: 0px 1px 2px rgba(60, 64, 67, 0.3), 0px 1px 3px 1px rgba(60, 64, 67, 0.15);\n",
              "      fill: #174EA6;\n",
              "    }\n",
              "\n",
              "    .colab-df-buttons div {\n",
              "      margin-bottom: 4px;\n",
              "    }\n",
              "\n",
              "    [theme=dark] .colab-df-convert {\n",
              "      background-color: #3B4455;\n",
              "      fill: #D2E3FC;\n",
              "    }\n",
              "\n",
              "    [theme=dark] .colab-df-convert:hover {\n",
              "      background-color: #434B5C;\n",
              "      box-shadow: 0px 1px 3px 1px rgba(0, 0, 0, 0.15);\n",
              "      filter: drop-shadow(0px 1px 2px rgba(0, 0, 0, 0.3));\n",
              "      fill: #FFFFFF;\n",
              "    }\n",
              "  </style>\n",
              "\n",
              "    <script>\n",
              "      const buttonEl =\n",
              "        document.querySelector('#df-4a27415c-20a2-4b61-9da6-67d45fd4049e button.colab-df-convert');\n",
              "      buttonEl.style.display =\n",
              "        google.colab.kernel.accessAllowed ? 'block' : 'none';\n",
              "\n",
              "      async function convertToInteractive(key) {\n",
              "        const element = document.querySelector('#df-4a27415c-20a2-4b61-9da6-67d45fd4049e');\n",
              "        const dataTable =\n",
              "          await google.colab.kernel.invokeFunction('convertToInteractive',\n",
              "                                                    [key], {});\n",
              "        if (!dataTable) return;\n",
              "\n",
              "        const docLinkHtml = 'Like what you see? Visit the ' +\n",
              "          '<a target=\"_blank\" href=https://colab.research.google.com/notebooks/data_table.ipynb>data table notebook</a>'\n",
              "          + ' to learn more about interactive tables.';\n",
              "        element.innerHTML = '';\n",
              "        dataTable['output_type'] = 'display_data';\n",
              "        await google.colab.output.renderOutput(dataTable, element);\n",
              "        const docLink = document.createElement('div');\n",
              "        docLink.innerHTML = docLinkHtml;\n",
              "        element.appendChild(docLink);\n",
              "      }\n",
              "    </script>\n",
              "  </div>\n",
              "\n",
              "\n",
              "    <div id=\"df-65dff766-6401-4ae7-98a8-ed44612f9ffa\">\n",
              "      <button class=\"colab-df-quickchart\" onclick=\"quickchart('df-65dff766-6401-4ae7-98a8-ed44612f9ffa')\"\n",
              "                title=\"Suggest charts\"\n",
              "                style=\"display:none;\">\n",
              "\n",
              "<svg xmlns=\"http://www.w3.org/2000/svg\" height=\"24px\"viewBox=\"0 0 24 24\"\n",
              "     width=\"24px\">\n",
              "    <g>\n",
              "        <path d=\"M19 3H5c-1.1 0-2 .9-2 2v14c0 1.1.9 2 2 2h14c1.1 0 2-.9 2-2V5c0-1.1-.9-2-2-2zM9 17H7v-7h2v7zm4 0h-2V7h2v10zm4 0h-2v-4h2v4z\"/>\n",
              "    </g>\n",
              "</svg>\n",
              "      </button>\n",
              "\n",
              "<style>\n",
              "  .colab-df-quickchart {\n",
              "      --bg-color: #E8F0FE;\n",
              "      --fill-color: #1967D2;\n",
              "      --hover-bg-color: #E2EBFA;\n",
              "      --hover-fill-color: #174EA6;\n",
              "      --disabled-fill-color: #AAA;\n",
              "      --disabled-bg-color: #DDD;\n",
              "  }\n",
              "\n",
              "  [theme=dark] .colab-df-quickchart {\n",
              "      --bg-color: #3B4455;\n",
              "      --fill-color: #D2E3FC;\n",
              "      --hover-bg-color: #434B5C;\n",
              "      --hover-fill-color: #FFFFFF;\n",
              "      --disabled-bg-color: #3B4455;\n",
              "      --disabled-fill-color: #666;\n",
              "  }\n",
              "\n",
              "  .colab-df-quickchart {\n",
              "    background-color: var(--bg-color);\n",
              "    border: none;\n",
              "    border-radius: 50%;\n",
              "    cursor: pointer;\n",
              "    display: none;\n",
              "    fill: var(--fill-color);\n",
              "    height: 32px;\n",
              "    padding: 0;\n",
              "    width: 32px;\n",
              "  }\n",
              "\n",
              "  .colab-df-quickchart:hover {\n",
              "    background-color: var(--hover-bg-color);\n",
              "    box-shadow: 0 1px 2px rgba(60, 64, 67, 0.3), 0 1px 3px 1px rgba(60, 64, 67, 0.15);\n",
              "    fill: var(--button-hover-fill-color);\n",
              "  }\n",
              "\n",
              "  .colab-df-quickchart-complete:disabled,\n",
              "  .colab-df-quickchart-complete:disabled:hover {\n",
              "    background-color: var(--disabled-bg-color);\n",
              "    fill: var(--disabled-fill-color);\n",
              "    box-shadow: none;\n",
              "  }\n",
              "\n",
              "  .colab-df-spinner {\n",
              "    border: 2px solid var(--fill-color);\n",
              "    border-color: transparent;\n",
              "    border-bottom-color: var(--fill-color);\n",
              "    animation:\n",
              "      spin 1s steps(1) infinite;\n",
              "  }\n",
              "\n",
              "  @keyframes spin {\n",
              "    0% {\n",
              "      border-color: transparent;\n",
              "      border-bottom-color: var(--fill-color);\n",
              "      border-left-color: var(--fill-color);\n",
              "    }\n",
              "    20% {\n",
              "      border-color: transparent;\n",
              "      border-left-color: var(--fill-color);\n",
              "      border-top-color: var(--fill-color);\n",
              "    }\n",
              "    30% {\n",
              "      border-color: transparent;\n",
              "      border-left-color: var(--fill-color);\n",
              "      border-top-color: var(--fill-color);\n",
              "      border-right-color: var(--fill-color);\n",
              "    }\n",
              "    40% {\n",
              "      border-color: transparent;\n",
              "      border-right-color: var(--fill-color);\n",
              "      border-top-color: var(--fill-color);\n",
              "    }\n",
              "    60% {\n",
              "      border-color: transparent;\n",
              "      border-right-color: var(--fill-color);\n",
              "    }\n",
              "    80% {\n",
              "      border-color: transparent;\n",
              "      border-right-color: var(--fill-color);\n",
              "      border-bottom-color: var(--fill-color);\n",
              "    }\n",
              "    90% {\n",
              "      border-color: transparent;\n",
              "      border-bottom-color: var(--fill-color);\n",
              "    }\n",
              "  }\n",
              "</style>\n",
              "\n",
              "      <script>\n",
              "        async function quickchart(key) {\n",
              "          const quickchartButtonEl =\n",
              "            document.querySelector('#' + key + ' button');\n",
              "          quickchartButtonEl.disabled = true;  // To prevent multiple clicks.\n",
              "          quickchartButtonEl.classList.add('colab-df-spinner');\n",
              "          try {\n",
              "            const charts = await google.colab.kernel.invokeFunction(\n",
              "                'suggestCharts', [key], {});\n",
              "          } catch (error) {\n",
              "            console.error('Error during call to suggestCharts:', error);\n",
              "          }\n",
              "          quickchartButtonEl.classList.remove('colab-df-spinner');\n",
              "          quickchartButtonEl.classList.add('colab-df-quickchart-complete');\n",
              "        }\n",
              "        (() => {\n",
              "          let quickchartButtonEl =\n",
              "            document.querySelector('#df-65dff766-6401-4ae7-98a8-ed44612f9ffa button');\n",
              "          quickchartButtonEl.style.display =\n",
              "            google.colab.kernel.accessAllowed ? 'block' : 'none';\n",
              "        })();\n",
              "      </script>\n",
              "    </div>\n",
              "\n",
              "    </div>\n",
              "  </div>\n"
            ],
            "application/vnd.google.colaboratory.intrinsic+json": {
              "type": "dataframe",
              "variable_name": "dataframe",
              "summary": "{\n  \"name\": \"dataframe\",\n  \"rows\": 150,\n  \"fields\": [\n    {\n      \"column\": \"slength\",\n      \"properties\": {\n        \"dtype\": \"number\",\n        \"std\": 0.8280661279778629,\n        \"min\": 4.3,\n        \"max\": 7.9,\n        \"num_unique_values\": 35,\n        \"samples\": [\n          6.2,\n          4.5,\n          5.6\n        ],\n        \"semantic_type\": \"\",\n        \"description\": \"\"\n      }\n    },\n    {\n      \"column\": \"swidth\",\n      \"properties\": {\n        \"dtype\": \"number\",\n        \"std\": 0.4335943113621737,\n        \"min\": 2.0,\n        \"max\": 4.4,\n        \"num_unique_values\": 23,\n        \"samples\": [\n          2.3,\n          4.0,\n          3.5\n        ],\n        \"semantic_type\": \"\",\n        \"description\": \"\"\n      }\n    },\n    {\n      \"column\": \"plength\",\n      \"properties\": {\n        \"dtype\": \"number\",\n        \"std\": 1.7644204199522617,\n        \"min\": 1.0,\n        \"max\": 6.9,\n        \"num_unique_values\": 43,\n        \"samples\": [\n          6.7,\n          3.8,\n          3.7\n        ],\n        \"semantic_type\": \"\",\n        \"description\": \"\"\n      }\n    },\n    {\n      \"column\": \"pwidth\",\n      \"properties\": {\n        \"dtype\": \"number\",\n        \"std\": 0.7631607417008414,\n        \"min\": 0.1,\n        \"max\": 2.5,\n        \"num_unique_values\": 22,\n        \"samples\": [\n          0.2,\n          1.2,\n          1.3\n        ],\n        \"semantic_type\": \"\",\n        \"description\": \"\"\n      }\n    },\n    {\n      \"column\": \"species\",\n      \"properties\": {\n        \"dtype\": \"category\",\n        \"num_unique_values\": 3,\n        \"samples\": [\n          \"Iris-setosa\",\n          \"Iris-versicolor\",\n          \"Iris-virginica\"\n        ],\n        \"semantic_type\": \"\",\n        \"description\": \"\"\n      }\n    }\n  ]\n}"
            }
          },
          "metadata": {},
          "execution_count": 36
        }
      ]
    },
    {
      "cell_type": "code",
      "metadata": {
        "id": "ArKI8jH_Crxk",
        "colab": {
          "base_uri": "https://localhost:8080/",
          "height": 210
        },
        "outputId": "b87010a2-9baa-48f8-d874-20d4e8c4c731"
      },
      "source": [
        "df_virginica = dataframe[dataframe['species']=='Iris-virginica']\n",
        "df_virginica.drop(columns=['species']).mean()"
      ],
      "execution_count": null,
      "outputs": [
        {
          "output_type": "execute_result",
          "data": {
            "text/plain": [
              "slength    6.588\n",
              "swidth     2.974\n",
              "plength    5.552\n",
              "pwidth     2.026\n",
              "dtype: float64"
            ],
            "text/html": [
              "<div>\n",
              "<style scoped>\n",
              "    .dataframe tbody tr th:only-of-type {\n",
              "        vertical-align: middle;\n",
              "    }\n",
              "\n",
              "    .dataframe tbody tr th {\n",
              "        vertical-align: top;\n",
              "    }\n",
              "\n",
              "    .dataframe thead th {\n",
              "        text-align: right;\n",
              "    }\n",
              "</style>\n",
              "<table border=\"1\" class=\"dataframe\">\n",
              "  <thead>\n",
              "    <tr style=\"text-align: right;\">\n",
              "      <th></th>\n",
              "      <th>0</th>\n",
              "    </tr>\n",
              "  </thead>\n",
              "  <tbody>\n",
              "    <tr>\n",
              "      <th>slength</th>\n",
              "      <td>6.588</td>\n",
              "    </tr>\n",
              "    <tr>\n",
              "      <th>swidth</th>\n",
              "      <td>2.974</td>\n",
              "    </tr>\n",
              "    <tr>\n",
              "      <th>plength</th>\n",
              "      <td>5.552</td>\n",
              "    </tr>\n",
              "    <tr>\n",
              "      <th>pwidth</th>\n",
              "      <td>2.026</td>\n",
              "    </tr>\n",
              "  </tbody>\n",
              "</table>\n",
              "</div><br><label><b>dtype:</b> float64</label>"
            ]
          },
          "metadata": {},
          "execution_count": 37
        }
      ]
    },
    {
      "cell_type": "code",
      "metadata": {
        "id": "A_zFdBALCrxk",
        "colab": {
          "base_uri": "https://localhost:8080/",
          "height": 210
        },
        "outputId": "64f8eb6a-9a6f-4109-87f9-8869992c794f"
      },
      "source": [
        "df_virginica.drop(columns=['species']).median()"
      ],
      "execution_count": null,
      "outputs": [
        {
          "output_type": "execute_result",
          "data": {
            "text/plain": [
              "slength    6.50\n",
              "swidth     3.00\n",
              "plength    5.55\n",
              "pwidth     2.00\n",
              "dtype: float64"
            ],
            "text/html": [
              "<div>\n",
              "<style scoped>\n",
              "    .dataframe tbody tr th:only-of-type {\n",
              "        vertical-align: middle;\n",
              "    }\n",
              "\n",
              "    .dataframe tbody tr th {\n",
              "        vertical-align: top;\n",
              "    }\n",
              "\n",
              "    .dataframe thead th {\n",
              "        text-align: right;\n",
              "    }\n",
              "</style>\n",
              "<table border=\"1\" class=\"dataframe\">\n",
              "  <thead>\n",
              "    <tr style=\"text-align: right;\">\n",
              "      <th></th>\n",
              "      <th>0</th>\n",
              "    </tr>\n",
              "  </thead>\n",
              "  <tbody>\n",
              "    <tr>\n",
              "      <th>slength</th>\n",
              "      <td>6.50</td>\n",
              "    </tr>\n",
              "    <tr>\n",
              "      <th>swidth</th>\n",
              "      <td>3.00</td>\n",
              "    </tr>\n",
              "    <tr>\n",
              "      <th>plength</th>\n",
              "      <td>5.55</td>\n",
              "    </tr>\n",
              "    <tr>\n",
              "      <th>pwidth</th>\n",
              "      <td>2.00</td>\n",
              "    </tr>\n",
              "  </tbody>\n",
              "</table>\n",
              "</div><br><label><b>dtype:</b> float64</label>"
            ]
          },
          "metadata": {},
          "execution_count": 38
        }
      ]
    },
    {
      "cell_type": "code",
      "metadata": {
        "id": "VYosdtrLCrxk",
        "colab": {
          "base_uri": "https://localhost:8080/",
          "height": 300
        },
        "outputId": "ce1992f3-0036-4080-d66c-c9b007f5c698"
      },
      "source": [
        "df_virginica.drop(columns=['species']).describe() # Or get a summary"
      ],
      "execution_count": null,
      "outputs": [
        {
          "output_type": "execute_result",
          "data": {
            "text/plain": [
              "        slength     swidth    plength    pwidth\n",
              "count  50.00000  50.000000  50.000000  50.00000\n",
              "mean    6.58800   2.974000   5.552000   2.02600\n",
              "std     0.63588   0.322497   0.551895   0.27465\n",
              "min     4.90000   2.200000   4.500000   1.40000\n",
              "25%     6.22500   2.800000   5.100000   1.80000\n",
              "50%     6.50000   3.000000   5.550000   2.00000\n",
              "75%     6.90000   3.175000   5.875000   2.30000\n",
              "max     7.90000   3.800000   6.900000   2.50000"
            ],
            "text/html": [
              "\n",
              "  <div id=\"df-ed56742f-3f40-4247-90fd-f228d9b6e86a\" class=\"colab-df-container\">\n",
              "    <div>\n",
              "<style scoped>\n",
              "    .dataframe tbody tr th:only-of-type {\n",
              "        vertical-align: middle;\n",
              "    }\n",
              "\n",
              "    .dataframe tbody tr th {\n",
              "        vertical-align: top;\n",
              "    }\n",
              "\n",
              "    .dataframe thead th {\n",
              "        text-align: right;\n",
              "    }\n",
              "</style>\n",
              "<table border=\"1\" class=\"dataframe\">\n",
              "  <thead>\n",
              "    <tr style=\"text-align: right;\">\n",
              "      <th></th>\n",
              "      <th>slength</th>\n",
              "      <th>swidth</th>\n",
              "      <th>plength</th>\n",
              "      <th>pwidth</th>\n",
              "    </tr>\n",
              "  </thead>\n",
              "  <tbody>\n",
              "    <tr>\n",
              "      <th>count</th>\n",
              "      <td>50.00000</td>\n",
              "      <td>50.000000</td>\n",
              "      <td>50.000000</td>\n",
              "      <td>50.00000</td>\n",
              "    </tr>\n",
              "    <tr>\n",
              "      <th>mean</th>\n",
              "      <td>6.58800</td>\n",
              "      <td>2.974000</td>\n",
              "      <td>5.552000</td>\n",
              "      <td>2.02600</td>\n",
              "    </tr>\n",
              "    <tr>\n",
              "      <th>std</th>\n",
              "      <td>0.63588</td>\n",
              "      <td>0.322497</td>\n",
              "      <td>0.551895</td>\n",
              "      <td>0.27465</td>\n",
              "    </tr>\n",
              "    <tr>\n",
              "      <th>min</th>\n",
              "      <td>4.90000</td>\n",
              "      <td>2.200000</td>\n",
              "      <td>4.500000</td>\n",
              "      <td>1.40000</td>\n",
              "    </tr>\n",
              "    <tr>\n",
              "      <th>25%</th>\n",
              "      <td>6.22500</td>\n",
              "      <td>2.800000</td>\n",
              "      <td>5.100000</td>\n",
              "      <td>1.80000</td>\n",
              "    </tr>\n",
              "    <tr>\n",
              "      <th>50%</th>\n",
              "      <td>6.50000</td>\n",
              "      <td>3.000000</td>\n",
              "      <td>5.550000</td>\n",
              "      <td>2.00000</td>\n",
              "    </tr>\n",
              "    <tr>\n",
              "      <th>75%</th>\n",
              "      <td>6.90000</td>\n",
              "      <td>3.175000</td>\n",
              "      <td>5.875000</td>\n",
              "      <td>2.30000</td>\n",
              "    </tr>\n",
              "    <tr>\n",
              "      <th>max</th>\n",
              "      <td>7.90000</td>\n",
              "      <td>3.800000</td>\n",
              "      <td>6.900000</td>\n",
              "      <td>2.50000</td>\n",
              "    </tr>\n",
              "  </tbody>\n",
              "</table>\n",
              "</div>\n",
              "    <div class=\"colab-df-buttons\">\n",
              "\n",
              "  <div class=\"colab-df-container\">\n",
              "    <button class=\"colab-df-convert\" onclick=\"convertToInteractive('df-ed56742f-3f40-4247-90fd-f228d9b6e86a')\"\n",
              "            title=\"Convert this dataframe to an interactive table.\"\n",
              "            style=\"display:none;\">\n",
              "\n",
              "  <svg xmlns=\"http://www.w3.org/2000/svg\" height=\"24px\" viewBox=\"0 -960 960 960\">\n",
              "    <path d=\"M120-120v-720h720v720H120Zm60-500h600v-160H180v160Zm220 220h160v-160H400v160Zm0 220h160v-160H400v160ZM180-400h160v-160H180v160Zm440 0h160v-160H620v160ZM180-180h160v-160H180v160Zm440 0h160v-160H620v160Z\"/>\n",
              "  </svg>\n",
              "    </button>\n",
              "\n",
              "  <style>\n",
              "    .colab-df-container {\n",
              "      display:flex;\n",
              "      gap: 12px;\n",
              "    }\n",
              "\n",
              "    .colab-df-convert {\n",
              "      background-color: #E8F0FE;\n",
              "      border: none;\n",
              "      border-radius: 50%;\n",
              "      cursor: pointer;\n",
              "      display: none;\n",
              "      fill: #1967D2;\n",
              "      height: 32px;\n",
              "      padding: 0 0 0 0;\n",
              "      width: 32px;\n",
              "    }\n",
              "\n",
              "    .colab-df-convert:hover {\n",
              "      background-color: #E2EBFA;\n",
              "      box-shadow: 0px 1px 2px rgba(60, 64, 67, 0.3), 0px 1px 3px 1px rgba(60, 64, 67, 0.15);\n",
              "      fill: #174EA6;\n",
              "    }\n",
              "\n",
              "    .colab-df-buttons div {\n",
              "      margin-bottom: 4px;\n",
              "    }\n",
              "\n",
              "    [theme=dark] .colab-df-convert {\n",
              "      background-color: #3B4455;\n",
              "      fill: #D2E3FC;\n",
              "    }\n",
              "\n",
              "    [theme=dark] .colab-df-convert:hover {\n",
              "      background-color: #434B5C;\n",
              "      box-shadow: 0px 1px 3px 1px rgba(0, 0, 0, 0.15);\n",
              "      filter: drop-shadow(0px 1px 2px rgba(0, 0, 0, 0.3));\n",
              "      fill: #FFFFFF;\n",
              "    }\n",
              "  </style>\n",
              "\n",
              "    <script>\n",
              "      const buttonEl =\n",
              "        document.querySelector('#df-ed56742f-3f40-4247-90fd-f228d9b6e86a button.colab-df-convert');\n",
              "      buttonEl.style.display =\n",
              "        google.colab.kernel.accessAllowed ? 'block' : 'none';\n",
              "\n",
              "      async function convertToInteractive(key) {\n",
              "        const element = document.querySelector('#df-ed56742f-3f40-4247-90fd-f228d9b6e86a');\n",
              "        const dataTable =\n",
              "          await google.colab.kernel.invokeFunction('convertToInteractive',\n",
              "                                                    [key], {});\n",
              "        if (!dataTable) return;\n",
              "\n",
              "        const docLinkHtml = 'Like what you see? Visit the ' +\n",
              "          '<a target=\"_blank\" href=https://colab.research.google.com/notebooks/data_table.ipynb>data table notebook</a>'\n",
              "          + ' to learn more about interactive tables.';\n",
              "        element.innerHTML = '';\n",
              "        dataTable['output_type'] = 'display_data';\n",
              "        await google.colab.output.renderOutput(dataTable, element);\n",
              "        const docLink = document.createElement('div');\n",
              "        docLink.innerHTML = docLinkHtml;\n",
              "        element.appendChild(docLink);\n",
              "      }\n",
              "    </script>\n",
              "  </div>\n",
              "\n",
              "\n",
              "    <div id=\"df-ebfc0ef6-79d6-4b07-9960-fb3c46ef91be\">\n",
              "      <button class=\"colab-df-quickchart\" onclick=\"quickchart('df-ebfc0ef6-79d6-4b07-9960-fb3c46ef91be')\"\n",
              "                title=\"Suggest charts\"\n",
              "                style=\"display:none;\">\n",
              "\n",
              "<svg xmlns=\"http://www.w3.org/2000/svg\" height=\"24px\"viewBox=\"0 0 24 24\"\n",
              "     width=\"24px\">\n",
              "    <g>\n",
              "        <path d=\"M19 3H5c-1.1 0-2 .9-2 2v14c0 1.1.9 2 2 2h14c1.1 0 2-.9 2-2V5c0-1.1-.9-2-2-2zM9 17H7v-7h2v7zm4 0h-2V7h2v10zm4 0h-2v-4h2v4z\"/>\n",
              "    </g>\n",
              "</svg>\n",
              "      </button>\n",
              "\n",
              "<style>\n",
              "  .colab-df-quickchart {\n",
              "      --bg-color: #E8F0FE;\n",
              "      --fill-color: #1967D2;\n",
              "      --hover-bg-color: #E2EBFA;\n",
              "      --hover-fill-color: #174EA6;\n",
              "      --disabled-fill-color: #AAA;\n",
              "      --disabled-bg-color: #DDD;\n",
              "  }\n",
              "\n",
              "  [theme=dark] .colab-df-quickchart {\n",
              "      --bg-color: #3B4455;\n",
              "      --fill-color: #D2E3FC;\n",
              "      --hover-bg-color: #434B5C;\n",
              "      --hover-fill-color: #FFFFFF;\n",
              "      --disabled-bg-color: #3B4455;\n",
              "      --disabled-fill-color: #666;\n",
              "  }\n",
              "\n",
              "  .colab-df-quickchart {\n",
              "    background-color: var(--bg-color);\n",
              "    border: none;\n",
              "    border-radius: 50%;\n",
              "    cursor: pointer;\n",
              "    display: none;\n",
              "    fill: var(--fill-color);\n",
              "    height: 32px;\n",
              "    padding: 0;\n",
              "    width: 32px;\n",
              "  }\n",
              "\n",
              "  .colab-df-quickchart:hover {\n",
              "    background-color: var(--hover-bg-color);\n",
              "    box-shadow: 0 1px 2px rgba(60, 64, 67, 0.3), 0 1px 3px 1px rgba(60, 64, 67, 0.15);\n",
              "    fill: var(--button-hover-fill-color);\n",
              "  }\n",
              "\n",
              "  .colab-df-quickchart-complete:disabled,\n",
              "  .colab-df-quickchart-complete:disabled:hover {\n",
              "    background-color: var(--disabled-bg-color);\n",
              "    fill: var(--disabled-fill-color);\n",
              "    box-shadow: none;\n",
              "  }\n",
              "\n",
              "  .colab-df-spinner {\n",
              "    border: 2px solid var(--fill-color);\n",
              "    border-color: transparent;\n",
              "    border-bottom-color: var(--fill-color);\n",
              "    animation:\n",
              "      spin 1s steps(1) infinite;\n",
              "  }\n",
              "\n",
              "  @keyframes spin {\n",
              "    0% {\n",
              "      border-color: transparent;\n",
              "      border-bottom-color: var(--fill-color);\n",
              "      border-left-color: var(--fill-color);\n",
              "    }\n",
              "    20% {\n",
              "      border-color: transparent;\n",
              "      border-left-color: var(--fill-color);\n",
              "      border-top-color: var(--fill-color);\n",
              "    }\n",
              "    30% {\n",
              "      border-color: transparent;\n",
              "      border-left-color: var(--fill-color);\n",
              "      border-top-color: var(--fill-color);\n",
              "      border-right-color: var(--fill-color);\n",
              "    }\n",
              "    40% {\n",
              "      border-color: transparent;\n",
              "      border-right-color: var(--fill-color);\n",
              "      border-top-color: var(--fill-color);\n",
              "    }\n",
              "    60% {\n",
              "      border-color: transparent;\n",
              "      border-right-color: var(--fill-color);\n",
              "    }\n",
              "    80% {\n",
              "      border-color: transparent;\n",
              "      border-right-color: var(--fill-color);\n",
              "      border-bottom-color: var(--fill-color);\n",
              "    }\n",
              "    90% {\n",
              "      border-color: transparent;\n",
              "      border-bottom-color: var(--fill-color);\n",
              "    }\n",
              "  }\n",
              "</style>\n",
              "\n",
              "      <script>\n",
              "        async function quickchart(key) {\n",
              "          const quickchartButtonEl =\n",
              "            document.querySelector('#' + key + ' button');\n",
              "          quickchartButtonEl.disabled = true;  // To prevent multiple clicks.\n",
              "          quickchartButtonEl.classList.add('colab-df-spinner');\n",
              "          try {\n",
              "            const charts = await google.colab.kernel.invokeFunction(\n",
              "                'suggestCharts', [key], {});\n",
              "          } catch (error) {\n",
              "            console.error('Error during call to suggestCharts:', error);\n",
              "          }\n",
              "          quickchartButtonEl.classList.remove('colab-df-spinner');\n",
              "          quickchartButtonEl.classList.add('colab-df-quickchart-complete');\n",
              "        }\n",
              "        (() => {\n",
              "          let quickchartButtonEl =\n",
              "            document.querySelector('#df-ebfc0ef6-79d6-4b07-9960-fb3c46ef91be button');\n",
              "          quickchartButtonEl.style.display =\n",
              "            google.colab.kernel.accessAllowed ? 'block' : 'none';\n",
              "        })();\n",
              "      </script>\n",
              "    </div>\n",
              "\n",
              "    </div>\n",
              "  </div>\n"
            ],
            "application/vnd.google.colaboratory.intrinsic+json": {
              "type": "dataframe",
              "summary": "{\n  \"name\": \"df_virginica\",\n  \"rows\": 8,\n  \"fields\": [\n    {\n      \"column\": \"slength\",\n      \"properties\": {\n        \"dtype\": \"number\",\n        \"std\": 15.830447653249758,\n        \"min\": 0.635879593274432,\n        \"max\": 50.0,\n        \"num_unique_values\": 8,\n        \"samples\": [\n          6.587999999999998,\n          6.5,\n          50.0\n        ],\n        \"semantic_type\": \"\",\n        \"description\": \"\"\n      }\n    },\n    {\n      \"column\": \"swidth\",\n      \"properties\": {\n        \"dtype\": \"number\",\n        \"std\": 16.78657902879402,\n        \"min\": 0.3224966381726376,\n        \"max\": 50.0,\n        \"num_unique_values\": 8,\n        \"samples\": [\n          2.974,\n          3.0,\n          50.0\n        ],\n        \"semantic_type\": \"\",\n        \"description\": \"\"\n      }\n    },\n    {\n      \"column\": \"plength\",\n      \"properties\": {\n        \"dtype\": \"number\",\n        \"std\": 16.06998321531361,\n        \"min\": 0.5518946956639835,\n        \"max\": 50.0,\n        \"num_unique_values\": 8,\n        \"samples\": [\n          5.5520000000000005,\n          5.55,\n          50.0\n        ],\n        \"semantic_type\": \"\",\n        \"description\": \"\"\n      }\n    },\n    {\n      \"column\": \"pwidth\",\n      \"properties\": {\n        \"dtype\": \"number\",\n        \"std\": 17.070227774795082,\n        \"min\": 0.27465005563666733,\n        \"max\": 50.0,\n        \"num_unique_values\": 8,\n        \"samples\": [\n          2.0260000000000002,\n          2.0,\n          50.0\n        ],\n        \"semantic_type\": \"\",\n        \"description\": \"\"\n      }\n    }\n  ]\n}"
            }
          },
          "metadata": {},
          "execution_count": 39
        }
      ]
    },
    {
      "cell_type": "markdown",
      "metadata": {
        "id": "VPsjBML9Crxk"
      },
      "source": [
        "All the descriptive statistics methods for python dataframes are listed here:\n",
        "https://pandas.pydata.org/pandas-docs/stable/api.html#api-dataframe-stats"
      ]
    },
    {
      "cell_type": "markdown",
      "metadata": {
        "id": "jLHDhA6dCrxl"
      },
      "source": [
        "Now we looked at the numbers. Let's us plot the distributions."
      ]
    },
    {
      "cell_type": "code",
      "metadata": {
        "id": "meWumlBECrxl",
        "colab": {
          "base_uri": "https://localhost:8080/",
          "height": 490
        },
        "outputId": "7b7647a7-a6b6-4c91-dc1d-717bb1a51642"
      },
      "source": [
        "df_virginica['slength'].plot(kind=\"hist\",fill=False,histtype='step',title='Iris Setosa', label=\"length\")\n",
        "ax = df_virginica['swidth'].plot(kind=\"hist\",fill=False,histtype='step', label=\"width\")\n",
        "ax.set_xlabel('Setal length/width [cm]')\n",
        "ax.set_ylabel('Frequency')\n",
        "plt.legend()"
      ],
      "execution_count": null,
      "outputs": [
        {
          "output_type": "execute_result",
          "data": {
            "text/plain": [
              "<matplotlib.legend.Legend at 0x7f035a3a4fd0>"
            ]
          },
          "metadata": {},
          "execution_count": 40
        },
        {
          "output_type": "display_data",
          "data": {
            "text/plain": [
              "<Figure size 640x480 with 1 Axes>"
            ],
            "image/png": "[encoded data removed]"
          },
          "metadata": {}
        }
      ]
    },
    {
      "cell_type": "markdown",
      "metadata": {
        "id": "KZXVT141Crxn"
      },
      "source": [
        "## 2.4 How to generate random variables based on a normal distribution"
      ]
    },
    {
      "cell_type": "markdown",
      "metadata": {
        "id": "9Br53E6bCrxn"
      },
      "source": [
        "One can simulate data sets by generating them from probability density functions. The computer does this with a so called Monte Carlo (MC) algorithm. It draws $x$ values (pseudo) randomly from the given distribution. The the actual draws of the random variable are called random variates. Simulations can be very useful when planning an experiment and developing the analysis method. Instead of real data one can use the simulated data.\n",
        "\n",
        "Let us simulate the iris virginica sepal width data (width the mean and standard deviation we got from the real data) given that a normal distribution is a reasonable model for the swith of iris virginica."
      ]
    },
    {
      "cell_type": "code",
      "metadata": {
        "id": "la2x-Bj1Crxn"
      },
      "source": [
        "n = scipy.stats.norm.rvs(2.974000,0.322497,50) # 100 random values from a normal distribution with mean 2.974000 and SD 0.322497"
      ],
      "execution_count": null,
      "outputs": []
    },
    {
      "cell_type": "code",
      "metadata": {
        "id": "6QQ-hi0XCrxn",
        "colab": {
          "base_uri": "https://localhost:8080/"
        },
        "outputId": "e8d0446c-c2b9-4547-d15f-8b4b4aaf9044"
      },
      "source": [
        "print(n[0:10]) # Print first 10"
      ],
      "execution_count": null,
      "outputs": [
        {
          "output_type": "stream",
          "name": "stdout",
          "text": [
            "[3.17357129 2.49871512 3.48346979 3.21750099 3.29925232 3.48521492\n",
            " 2.81723054 2.53147981 2.88113719 2.69763448]\n"
          ]
        }
      ]
    },
    {
      "cell_type": "code",
      "metadata": {
        "colab": {
          "base_uri": "https://localhost:8080/",
          "height": 206
        },
        "id": "tOtk5NC_Crxo",
        "outputId": "6a97a02f-eff4-4d63-b74d-67ea0cda4894"
      },
      "source": [
        "# Put the simulated data into a dataframe\n",
        "df_virginica_sim = pd.DataFrame(n)\n",
        "df_virginica_sim.head()"
      ],
      "execution_count": null,
      "outputs": [
        {
          "output_type": "execute_result",
          "data": {
            "text/plain": [
              "          0\n",
              "0  3.173571\n",
              "1  2.498715\n",
              "2  3.483470\n",
              "3  3.217501\n",
              "4  3.299252"
            ],
            "text/html": [
              "\n",
              "  <div id=\"df-5ee866d0-b6a6-4b47-980a-c93a81125d55\" class=\"colab-df-container\">\n",
              "    <div>\n",
              "<style scoped>\n",
              "    .dataframe tbody tr th:only-of-type {\n",
              "        vertical-align: middle;\n",
              "    }\n",
              "\n",
              "    .dataframe tbody tr th {\n",
              "        vertical-align: top;\n",
              "    }\n",
              "\n",
              "    .dataframe thead th {\n",
              "        text-align: right;\n",
              "    }\n",
              "</style>\n",
              "<table border=\"1\" class=\"dataframe\">\n",
              "  <thead>\n",
              "    <tr style=\"text-align: right;\">\n",
              "      <th></th>\n",
              "      <th>0</th>\n",
              "    </tr>\n",
              "  </thead>\n",
              "  <tbody>\n",
              "    <tr>\n",
              "      <th>0</th>\n",
              "      <td>3.173571</td>\n",
              "    </tr>\n",
              "    <tr>\n",
              "      <th>1</th>\n",
              "      <td>2.498715</td>\n",
              "    </tr>\n",
              "    <tr>\n",
              "      <th>2</th>\n",
              "      <td>3.483470</td>\n",
              "    </tr>\n",
              "    <tr>\n",
              "      <th>3</th>\n",
              "      <td>3.217501</td>\n",
              "    </tr>\n",
              "    <tr>\n",
              "      <th>4</th>\n",
              "      <td>3.299252</td>\n",
              "    </tr>\n",
              "  </tbody>\n",
              "</table>\n",
              "</div>\n",
              "    <div class=\"colab-df-buttons\">\n",
              "\n",
              "  <div class=\"colab-df-container\">\n",
              "    <button class=\"colab-df-convert\" onclick=\"convertToInteractive('df-5ee866d0-b6a6-4b47-980a-c93a81125d55')\"\n",
              "            title=\"Convert this dataframe to an interactive table.\"\n",
              "            style=\"display:none;\">\n",
              "\n",
              "  <svg xmlns=\"http://www.w3.org/2000/svg\" height=\"24px\" viewBox=\"0 -960 960 960\">\n",
              "    <path d=\"M120-120v-720h720v720H120Zm60-500h600v-160H180v160Zm220 220h160v-160H400v160Zm0 220h160v-160H400v160ZM180-400h160v-160H180v160Zm440 0h160v-160H620v160ZM180-180h160v-160H180v160Zm440 0h160v-160H620v160Z\"/>\n",
              "  </svg>\n",
              "    </button>\n",
              "\n",
              "  <style>\n",
              "    .colab-df-container {\n",
              "      display:flex;\n",
              "      gap: 12px;\n",
              "    }\n",
              "\n",
              "    .colab-df-convert {\n",
              "      background-color: #E8F0FE;\n",
              "      border: none;\n",
              "      border-radius: 50%;\n",
              "      cursor: pointer;\n",
              "      display: none;\n",
              "      fill: #1967D2;\n",
              "      height: 32px;\n",
              "      padding: 0 0 0 0;\n",
              "      width: 32px;\n",
              "    }\n",
              "\n",
              "    .colab-df-convert:hover {\n",
              "      background-color: #E2EBFA;\n",
              "      box-shadow: 0px 1px 2px rgba(60, 64, 67, 0.3), 0px 1px 3px 1px rgba(60, 64, 67, 0.15);\n",
              "      fill: #174EA6;\n",
              "    }\n",
              "\n",
              "    .colab-df-buttons div {\n",
              "      margin-bottom: 4px;\n",
              "    }\n",
              "\n",
              "    [theme=dark] .colab-df-convert {\n",
              "      background-color: #3B4455;\n",
              "      fill: #D2E3FC;\n",
              "    }\n",
              "\n",
              "    [theme=dark] .colab-df-convert:hover {\n",
              "      background-color: #434B5C;\n",
              "      box-shadow: 0px 1px 3px 1px rgba(0, 0, 0, 0.15);\n",
              "      filter: drop-shadow(0px 1px 2px rgba(0, 0, 0, 0.3));\n",
              "      fill: #FFFFFF;\n",
              "    }\n",
              "  </style>\n",
              "\n",
              "    <script>\n",
              "      const buttonEl =\n",
              "        document.querySelector('#df-5ee866d0-b6a6-4b47-980a-c93a81125d55 button.colab-df-convert');\n",
              "      buttonEl.style.display =\n",
              "        google.colab.kernel.accessAllowed ? 'block' : 'none';\n",
              "\n",
              "      async function convertToInteractive(key) {\n",
              "        const element = document.querySelector('#df-5ee866d0-b6a6-4b47-980a-c93a81125d55');\n",
              "        const dataTable =\n",
              "          await google.colab.kernel.invokeFunction('convertToInteractive',\n",
              "                                                    [key], {});\n",
              "        if (!dataTable) return;\n",
              "\n",
              "        const docLinkHtml = 'Like what you see? Visit the ' +\n",
              "          '<a target=\"_blank\" href=https://colab.research.google.com/notebooks/data_table.ipynb>data table notebook</a>'\n",
              "          + ' to learn more about interactive tables.';\n",
              "        element.innerHTML = '';\n",
              "        dataTable['output_type'] = 'display_data';\n",
              "        await google.colab.output.renderOutput(dataTable, element);\n",
              "        const docLink = document.createElement('div');\n",
              "        docLink.innerHTML = docLinkHtml;\n",
              "        element.appendChild(docLink);\n",
              "      }\n",
              "    </script>\n",
              "  </div>\n",
              "\n",
              "\n",
              "    <div id=\"df-3c336dc2-217c-4e64-b178-e19f6e53e6e2\">\n",
              "      <button class=\"colab-df-quickchart\" onclick=\"quickchart('df-3c336dc2-217c-4e64-b178-e19f6e53e6e2')\"\n",
              "                title=\"Suggest charts\"\n",
              "                style=\"display:none;\">\n",
              "\n",
              "<svg xmlns=\"http://www.w3.org/2000/svg\" height=\"24px\"viewBox=\"0 0 24 24\"\n",
              "     width=\"24px\">\n",
              "    <g>\n",
              "        <path d=\"M19 3H5c-1.1 0-2 .9-2 2v14c0 1.1.9 2 2 2h14c1.1 0 2-.9 2-2V5c0-1.1-.9-2-2-2zM9 17H7v-7h2v7zm4 0h-2V7h2v10zm4 0h-2v-4h2v4z\"/>\n",
              "    </g>\n",
              "</svg>\n",
              "      </button>\n",
              "\n",
              "<style>\n",
              "  .colab-df-quickchart {\n",
              "      --bg-color: #E8F0FE;\n",
              "      --fill-color: #1967D2;\n",
              "      --hover-bg-color: #E2EBFA;\n",
              "      --hover-fill-color: #174EA6;\n",
              "      --disabled-fill-color: #AAA;\n",
              "      --disabled-bg-color: #DDD;\n",
              "  }\n",
              "\n",
              "  [theme=dark] .colab-df-quickchart {\n",
              "      --bg-color: #3B4455;\n",
              "      --fill-color: #D2E3FC;\n",
              "      --hover-bg-color: #434B5C;\n",
              "      --hover-fill-color: #FFFFFF;\n",
              "      --disabled-bg-color: #3B4455;\n",
              "      --disabled-fill-color: #666;\n",
              "  }\n",
              "\n",
              "  .colab-df-quickchart {\n",
              "    background-color: var(--bg-color);\n",
              "    border: none;\n",
              "    border-radius: 50%;\n",
              "    cursor: pointer;\n",
              "    display: none;\n",
              "    fill: var(--fill-color);\n",
              "    height: 32px;\n",
              "    padding: 0;\n",
              "    width: 32px;\n",
              "  }\n",
              "\n",
              "  .colab-df-quickchart:hover {\n",
              "    background-color: var(--hover-bg-color);\n",
              "    box-shadow: 0 1px 2px rgba(60, 64, 67, 0.3), 0 1px 3px 1px rgba(60, 64, 67, 0.15);\n",
              "    fill: var(--button-hover-fill-color);\n",
              "  }\n",
              "\n",
              "  .colab-df-quickchart-complete:disabled,\n",
              "  .colab-df-quickchart-complete:disabled:hover {\n",
              "    background-color: var(--disabled-bg-color);\n",
              "    fill: var(--disabled-fill-color);\n",
              "    box-shadow: none;\n",
              "  }\n",
              "\n",
              "  .colab-df-spinner {\n",
              "    border: 2px solid var(--fill-color);\n",
              "    border-color: transparent;\n",
              "    border-bottom-color: var(--fill-color);\n",
              "    animation:\n",
              "      spin 1s steps(1) infinite;\n",
              "  }\n",
              "\n",
              "  @keyframes spin {\n",
              "    0% {\n",
              "      border-color: transparent;\n",
              "      border-bottom-color: var(--fill-color);\n",
              "      border-left-color: var(--fill-color);\n",
              "    }\n",
              "    20% {\n",
              "      border-color: transparent;\n",
              "      border-left-color: var(--fill-color);\n",
              "      border-top-color: var(--fill-color);\n",
              "    }\n",
              "    30% {\n",
              "      border-color: transparent;\n",
              "      border-left-color: var(--fill-color);\n",
              "      border-top-color: var(--fill-color);\n",
              "      border-right-color: var(--fill-color);\n",
              "    }\n",
              "    40% {\n",
              "      border-color: transparent;\n",
              "      border-right-color: var(--fill-color);\n",
              "      border-top-color: var(--fill-color);\n",
              "    }\n",
              "    60% {\n",
              "      border-color: transparent;\n",
              "      border-right-color: var(--fill-color);\n",
              "    }\n",
              "    80% {\n",
              "      border-color: transparent;\n",
              "      border-right-color: var(--fill-color);\n",
              "      border-bottom-color: var(--fill-color);\n",
              "    }\n",
              "    90% {\n",
              "      border-color: transparent;\n",
              "      border-bottom-color: var(--fill-color);\n",
              "    }\n",
              "  }\n",
              "</style>\n",
              "\n",
              "      <script>\n",
              "        async function quickchart(key) {\n",
              "          const quickchartButtonEl =\n",
              "            document.querySelector('#' + key + ' button');\n",
              "          quickchartButtonEl.disabled = true;  // To prevent multiple clicks.\n",
              "          quickchartButtonEl.classList.add('colab-df-spinner');\n",
              "          try {\n",
              "            const charts = await google.colab.kernel.invokeFunction(\n",
              "                'suggestCharts', [key], {});\n",
              "          } catch (error) {\n",
              "            console.error('Error during call to suggestCharts:', error);\n",
              "          }\n",
              "          quickchartButtonEl.classList.remove('colab-df-spinner');\n",
              "          quickchartButtonEl.classList.add('colab-df-quickchart-complete');\n",
              "        }\n",
              "        (() => {\n",
              "          let quickchartButtonEl =\n",
              "            document.querySelector('#df-3c336dc2-217c-4e64-b178-e19f6e53e6e2 button');\n",
              "          quickchartButtonEl.style.display =\n",
              "            google.colab.kernel.accessAllowed ? 'block' : 'none';\n",
              "        })();\n",
              "      </script>\n",
              "    </div>\n",
              "\n",
              "    </div>\n",
              "  </div>\n"
            ],
            "application/vnd.google.colaboratory.intrinsic+json": {
              "type": "dataframe",
              "variable_name": "df_virginica_sim",
              "summary": "{\n  \"name\": \"df_virginica_sim\",\n  \"rows\": 50,\n  \"fields\": [\n    {\n      \"column\": 0,\n      \"properties\": {\n        \"dtype\": \"number\",\n        \"std\": 0.30534323786542633,\n        \"min\": 2.323220745597583,\n        \"max\": 3.6321973081572585,\n        \"num_unique_values\": 50,\n        \"samples\": [\n          3.2215913733531933,\n          3.289465110619548,\n          3.285088395386602\n        ],\n        \"semantic_type\": \"\",\n        \"description\": \"\"\n      }\n    }\n  ]\n}"
            }
          },
          "metadata": {},
          "execution_count": 43
        }
      ]
    },
    {
      "cell_type": "markdown",
      "metadata": {
        "id": "fo9ii-BTzfMH"
      },
      "source": [
        "####Exercise\n",
        "Try to generate a random t-distributed sample of size 20 with df=10."
      ]
    },
    {
      "cell_type": "code",
      "metadata": {
        "id": "LJbew-Lez6Xa"
      },
      "source": [
        "## write your code here"
      ],
      "execution_count": null,
      "outputs": []
    },
    {
      "cell_type": "markdown",
      "metadata": {
        "id": "WOGKZWDrCrxp"
      },
      "source": [
        "## 2.5 Uncertainties\n"
      ]
    },
    {
      "cell_type": "markdown",
      "metadata": {
        "id": "zVZCEv6LCrxp"
      },
      "source": [
        "All data have uncertainties. These should always be communicated when showing scientific numbers or plots. We distinguish between two types.\n",
        "\n",
        "- Statistical uncertainties\n",
        "    - Fluctuations, can be made smaller by taking more data, i.e. get more statistics\n",
        "- Systematic uncertainties\n",
        "    - Shift of data in one direction due to some \"mistake\" in the measurement, e.g. wrongly calibrated instrument showing all measured values systematically higher as they really are. Or for instance uncertainty due to the choice of methods and tools\n",
        "    \n",
        "The statistics tools can mostly handle the statistical uncertainties. There is no mathematical recipe for dealing with systematical uncertainties. You have to think through your experiment and try to estimate the influence of everything that can go wrong.\n",
        "\n",
        "When uncertainties are stated on numbers or in graphs as error bars or error bands they generally show one standard deviation. If the data are well described by a normal distribution, the interpretation of one standard deviation is clear: if the measurement is repeated many times, 32% (or about 1/3 of the measurements) **should** be outside the error bars.\n",
        "\n",
        "If the distribution is not normal, the interpretation of one standard deviation is not as clear. For example, a poisson distribution is not necessary symmetric. So again we see, for low counts where the normal asumption is not a good approximation, let's say below 20, the interpretation is not obvious anymore and care is needed.\n"
      ]
    },
    {
      "cell_type": "code",
      "metadata": {
        "id": "CGtcz0trCrxq",
        "colab": {
          "base_uri": "https://localhost:8080/",
          "height": 430
        },
        "outputId": "f58820ef-dd9d-4f0a-8067-962a9c2cb267"
      },
      "source": [
        "# Draw a histogram which is not normalised\n",
        "entries1, edges, patches = plt.hist(n, bins=10, histtype='step')\n",
        "# Close plt so that this histogram is not shown\n",
        "plt.close()\n",
        "# Draw a histogram which IS normed\n",
        "entries2, edges, patches = plt.hist(n, bins=10, histtype='step',density=True)\n",
        "# Calculate the poisson standard deviation and scale down to second histogram\n",
        "errors = np.sqrt(entries1) * entries2/entries1\n",
        "# calculate bin centers\n",
        "bin_centers = 0.5 * (edges[:-1] + edges[1:])\n",
        "# draw errobars, use the sqrt error.\n",
        "plt.errorbar(bin_centers, entries2, yerr=errors, fmt='r.')\n",
        "# Draw a normal distribution\n",
        "x = np.linspace(2.4,4.2,100)\n",
        "sigma=variance**0.5\n",
        "plt.plot(x,scipy.stats.norm.pdf(x,df_virginica_sim.mean(),df_virginica_sim.std()))\n",
        "plt.show()"
      ],
      "execution_count": null,
      "outputs": [
        {
          "output_type": "display_data",
          "data": {
            "text/plain": [
              "<Figure size 640x480 with 1 Axes>"
            ],
            "image/png": "[encoded data removed]"
          },
          "metadata": {}
        }
      ]
    },
    {
      "cell_type": "markdown",
      "metadata": {
        "id": "98Ov7KLYCrxq"
      },
      "source": [
        "We see that 3 out of 10 data points are more than one standard deviation off the \"theory\" curve. This is how it should be."
      ]
    },
    {
      "cell_type": "markdown",
      "metadata": {
        "id": "YSQjhejaCrxq"
      },
      "source": [
        "## 2.6 Questions?"
      ]
    },
    {
      "cell_type": "markdown",
      "metadata": {
        "id": "fAP80BACCrxr"
      },
      "source": [
        "Do you have a question for tomorrow's discussion session: https://forms.gle/QUL62MbmQiEEYvY37"
      ]
    },
    {
      "cell_type": "markdown",
      "metadata": {
        "id": "2lsdO0c2Crxr"
      },
      "source": [
        "## References"
      ]
    },
    {
      "cell_type": "markdown",
      "metadata": {
        "id": "to2UjCSXCrxr"
      },
      "source": [
        "1. H. Cramer, Mathematical Methods of Statistics, (Princeton Univ. Press, New Jersey, 1958).\n",
        "2. A. Stuart and J.K. Ord, Kendall’s Advanced Theory of Statistics, Vol. 1 Distribution Theory 6th Ed., (Halsted Press, New York, 1994), and earlier editions by Kendall and Stuart.\n",
        "3. R.J. Barlow, Statistics: A Guide to the Use of Statistical Methods in the Physical Sciences, (John Wiley, New York, 1989).\n",
        "4. S. Brandt, Data Analysis, 3rd Ed., (Springer, New York, 1999).\n",
        "5. G. Cowan, Statistical Data Analysis, (Oxford University Press, Oxford, 1998).\n",
        "6. A.N. Kolmogorov, Grundbegriffe der Wahrscheinlichkeitsrechnung, (Springer, Berlin,\n",
        "1933); Foundations of the Theory of Probability, 2nd Ed., (Chelsea, New York 1956).\n",
        "7. Ch. Walck, Hand-book on Statistical Distributions for Experimentalists, University of Stockholm Internal Report SUF-PFY/96-01, available from http://staff.fysik.su.se/~walck/suf9601.pdf.\n",
        "8. M. Abramowitz and I. Stegun, eds., Handbook of Mathematical Functions, (Dover, New York, 1972)."
      ]
    },
    {
      "cell_type": "markdown",
      "metadata": {
        "id": "E7Jypp7CClEI"
      },
      "source": [
        "# Annex Probability"
      ]
    },
    {
      "cell_type": "markdown",
      "metadata": {
        "id": "_a6zps4YCrxr"
      },
      "source": [
        "An abstract definition of probability can be given by considering a set $\\Omega$, called the sample space, and possible subsets $A,B,...$ the interpretation of which is left open. The probability $P$ is a real-valued function defined by the following axioms due to Kolmogorov (1933) [9]:\n",
        "\n",
        "- For every subset $A$ in $S$, $P(A) ≥ 0$;\n",
        "- For disjoint subsets (i.e., $A ∩ B = ∅$), $P(A ∪ B) = P(A) + P(B)$;\n",
        "- $P(S)=1$.\n",
        "\n",
        "From this further properties can be derives, e.g.\n",
        "\n",
        "- $P(\\bar{A}) = 1 - P(A)$\n",
        "- $P(A \\cup \\bar{A}) = 1$\n",
        "- $P(\\emptyset) = 0$\n",
        "- if A in B, then $P(A)\\leq P(B)$\n",
        "- $P(A \\cup \\bar{A}) = P(A) + P(B) - P(A\\cap B)$\n",
        "\n",
        "#### Conditional probability\n",
        "In addition, one defines the conditional probability $P(A|B)$ (read as $P$ of $A$ given $B$) as $$P(A|B) = \\frac{P(A ∩ B)}{P(B)}$$\n",
        "\n",
        "As an example, when throwing the dice, consider obtaining more than 3 eyes given only trows with even number of eyes outcomes. We calculate the (conditional) probability:\n",
        "\n",
        "$$P(n>3|n\\; even) = \\frac{P(n>3 \\cap n\\; even)}{P(even)} = \\frac{2/6}{3/6} = \\frac{2}{3}$$\n",
        "\n",
        "#### Independence\n",
        "\n",
        "If A and B are independent, then\n",
        "\n",
        "$$P(A|B) = \\frac{P(A ∩ B)}{P(B)} = \\frac{P(A)P(B)}{P(B)} = P(A)$$\n"
      ]
    }
  ]
}